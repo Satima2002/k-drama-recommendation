{
 "cells": [
  {
   "cell_type": "markdown",
   "id": "93b22df3",
   "metadata": {},
   "source": [
    "# Data Gathering\n",
    "This project is a part of my final thesis, where I'll build content-based Kdramas recommendation website.\n",
    "Web scraping of all dramas from website Koreandrama.org.\n"
   ]
  },
  {
   "cell_type": "markdown",
   "id": "0733fcea",
   "metadata": {},
   "source": [
    "It can be challenging to wrap your head around a long block of HTML code. To make it easier to read, you can use an HTML formatter to clean it up automatically.\n",
    "https://webformatter.com/html"
   ]
  },
  {
   "cell_type": "markdown",
   "id": "278ce046",
   "metadata": {},
   "source": [
    "### Import necessary libraries"
   ]
  },
  {
   "cell_type": "code",
   "execution_count": 24,
   "id": "5fe88561",
   "metadata": {},
   "outputs": [],
   "source": [
    "from requests import get\n",
    "from bs4 import BeautifulSoup\n",
    "from warnings import warn\n",
    "from time import sleep\n",
    "from random import randint\n",
    "import numpy as np, pandas as pd\n",
    "import seaborn as sns\n",
    "import requests\n"
   ]
  },
  {
   "cell_type": "markdown",
   "id": "452cca52",
   "metadata": {},
   "source": [
    "Links to some tutorials:\n",
    "    https://www.freecodecamp.org/news/web-scraping-sci-fi-movies-from-imdb-with-python/\n",
    "    https://scrapeops.io/web-scraping-playbook/403-forbidden-error-web-scraping/#:~:text=The%20solution%20to%20this%20problem,scraper%20or%20a%20real%20user\n",
    "    https://realpython.com/beautiful-soup-web-scraper-python/#find-elements-by-id"
   ]
  },
  {
   "cell_type": "markdown",
   "id": "a10ee986",
   "metadata": {},
   "source": [
    "### Gathering links from the main page"
   ]
  },
  {
   "cell_type": "code",
   "execution_count": 25,
   "id": "1fa7ecd4",
   "metadata": {},
   "outputs": [],
   "source": [
    "pages = np.arange(1, 131)\n",
    "#the number of dramas pages in website"
   ]
  },
  {
   "cell_type": "markdown",
   "id": "24894b6f",
   "metadata": {},
   "source": [
    "Also in order to prevent our IP address to be catched don't request to the site several times in short amount of time."
   ]
  },
  {
   "cell_type": "code",
   "execution_count": 26,
   "id": "25c0c4cd",
   "metadata": {},
   "outputs": [],
   "source": [
    "#compiling has started 12.34\n",
    "import random\n",
    "page_links = set()\n",
    "for page in pages:\n",
    "   # in order to prevent 403 error\n",
    "    user_agents_list = [\n",
    "        'Mozilla/5.0 (iPad; CPU OS 12_2 like Mac OS X) AppleWebKit/605.1.15 (KHTML, like Gecko) Mobile/15E148',\n",
    "        'Mozilla/5.0 (Macintosh; Intel Mac OS X 10_15_7) AppleWebKit/537.36 (KHTML, like Gecko) Chrome/99.0.4844.83 Safari/537.36',\n",
    "        'Mozilla/5.0 (Windows NT 10.0; Win64; x64) AppleWebKit/537.36 (KHTML, like Gecko) Chrome/99.0.4844.51 Safari/537.36'\n",
    "    ]\n",
    "\n",
    "\n",
    "   #get request  \n",
    "    response = get(\"https://www.koreandrama.org/list/korean-dramas/page/\"+str(page),  headers={'User-Agent': random.choice(user_agents_list)})\n",
    "  \n",
    "    sleep(randint(8,15))\n",
    "   \n",
    "   #throw warning for status codes that are not 200\n",
    "    if response.status_code != 200:\n",
    "        warn('Request: {}; Status code: {}'.format(requests, response.status_code))\n",
    "\n",
    "   #parse the content of current iteration of request\n",
    "    page_html = BeautifulSoup(response.text, 'html.parser')\n",
    "   #extracting all the links from \n",
    "    \n",
    "    soup = bs(response.text, \"html.parser\")\n",
    "\n",
    "\n",
    "    tag = soup.find(class_=\"brxe-tobqlw brxe-block\")                                  \n",
    "\n",
    "    for link in tag.find_all_next(\"a\"):\n",
    "        url = link.get(\"href\", \"\")\n",
    "        if \"https://www.koreandrama.org/\" in url:\n",
    "            page_links.add(url)\n",
    "\n",
    "    for item in page_links.copy():\n",
    "        if \"https://www.koreandrama.org/list/korean-dramas/page\" in item:\n",
    "            page_links.discard(item)\n",
    "    page_links.discard(\"https://www.koreandrama.org/list/korean-dramas/\")\n",
    "#27 min of compiling\n",
    "   \n",
    "  "
   ]
  },
  {
   "cell_type": "markdown",
   "id": "a6f023e7",
   "metadata": {},
   "source": [
    "### Scraping each page for complete information "
   ]
  },
  {
   "cell_type": "code",
   "execution_count": 28,
   "id": "4995cdf9",
   "metadata": {},
   "outputs": [],
   "source": [
    "#compiling \n",
    "user_agents_list = [\n",
    "        'Mozilla/5.0 (iPad; CPU OS 12_2 like Mac OS X) AppleWebKit/605.1.15 (KHTML, like Gecko) Mobile/15E148',\n",
    "        'Mozilla/5.0 (Macintosh; Intel Mac OS X 10_15_7) AppleWebKit/537.36 (KHTML, like Gecko) Chrome/99.0.4844.83 Safari/537.36',\n",
    "        'Mozilla/5.0 (Windows NT 10.0; Win64; x64) AppleWebKit/537.36 (KHTML, like Gecko) Chrome/99.0.4844.51 Safari/537.36'\n",
    "    ]\n",
    "\n",
    "import json\n",
    "list_of_lists=[]\n",
    "\n",
    "for link in page_links:\n",
    "    r_page = requests.get(link, headers={'User-Agent': random.choice(user_agents_list)})\n",
    "\n",
    "     #parsing json file wraped into HTML script using python library json\n",
    "    soup2 = bs(r_page.text, \"html.parser\")\n",
    "    data = json.loads(soup2.find('script', type='application/ld+json').text)\n",
    "    \n",
    "    list_of_features=[\"name\",\"image\",\"@type\",\"description\",\"datePublished\"]\n",
    "    list_of_information=[]\n",
    "    #this loop for collecting all basic necessary features\n",
    "    for feature in list_of_features:\n",
    "        l=[]\n",
    "        l.append(data[\"@graph\"][0].get(feature))\n",
    "        list_of_information.append(l)\n",
    "    genres=[]\n",
    "\n",
    "    #this loop for finding all tags and saving the m in to list \n",
    "    for g in range(len(data[\"@graph\"][0][\"genre\"])):\n",
    "        genres.append(data[\"@graph\"][0][\"genre\"][g])\n",
    "    tags_list=[]\n",
    "\n",
    "    #this loop for finding all tags and  saving them into list \n",
    "    for i in soup2.find(id=\"brxe-hhddhx\").find_all(\"a\"):\n",
    "        tags_list.append(i.text)\n",
    "\n",
    "    #collecting extra information and saving it into dictionary\n",
    "    extra_info=dict()\n",
    "    for i in soup2.find(id=\"brxe-qefiit\").find_all(class_=\"jet-listing-dynamic-field__content\").copy():\n",
    "        title = i.b.text\n",
    "        unwanted = i.find('b')\n",
    "        unwanted.extract()\n",
    "        extra_info[title]=i.text\n",
    "    #collecting the cast (list of actors)\n",
    "    list_of_actors=[]\n",
    "    for i in soup2.find_all(class_=\"jet-listing-dynamic-link__label\"):\n",
    "        list_of_actors.append(i.text)\n",
    "\n",
    "    list_of_information.append(tags_list)\n",
    "    list_of_information.append(genres)\n",
    "    list_of_information.append(data[\"@graph\"][0][\"aggregateRating\"][\"ratingValue\"])\n",
    "    list_of_information.append(extra_info)\n",
    "    list_of_information.append(list_of_actors)\n",
    "    \n",
    "    list_of_lists.append(list_of_information)\n",
    "\n",
    "#\n"
   ]
  },
  {
   "cell_type": "code",
   "execution_count": 30,
   "id": "69cac85a",
   "metadata": {
    "scrolled": true
   },
   "outputs": [
    {
     "data": {
      "text/plain": [
       "2968"
      ]
     },
     "execution_count": 30,
     "metadata": {},
     "output_type": "execute_result"
    }
   ],
   "source": [
    "len(list_of_lists)"
   ]
  },
  {
   "cell_type": "markdown",
   "id": "9ac372b9",
   "metadata": {},
   "source": [
    "Range of information into list : main features, tags, extra information, cast"
   ]
  },
  {
   "cell_type": "markdown",
   "id": "adbdfd14",
   "metadata": {},
   "source": [
    "### Creation of Dataframe from list of lists"
   ]
  },
  {
   "cell_type": "code",
   "execution_count": 31,
   "id": "23dbcb3d",
   "metadata": {},
   "outputs": [],
   "source": [
    "import pandas as pd "
   ]
  },
  {
   "cell_type": "code",
   "execution_count": 32,
   "id": "9841905a",
   "metadata": {
    "scrolled": true
   },
   "outputs": [],
   "source": [
    "\n",
    "data_df = pd.DataFrame(list_of_lists, columns = [\"title\",\"image_URL\",\"@type\",\"description\",\"datePublished\",\"tags\",\"genre\",\"rating\",\"extra_info\",\"cast\"])\n",
    " \n",
    "# print dataframe.\n"
   ]
  },
  {
   "cell_type": "code",
   "execution_count": 34,
   "id": "8f82b08e",
   "metadata": {},
   "outputs": [
    {
     "data": {
      "text/plain": [
       "{'Director:': ' Kim Yong Kyu',\n",
       " 'Aired on:': ' Feb 2, 1998',\n",
       " 'Total Episodes:': ' 16',\n",
       " 'Network:': ' KBS2',\n",
       " 'Duration:': ' 50 min.',\n",
       " 'Year:': ' 1998'}"
      ]
     },
     "execution_count": 34,
     "metadata": {},
     "output_type": "execute_result"
    }
   ],
   "source": [
    "data_df[\"extra_info\"][3]\n",
    "#this is a dictionary containing extra information"
   ]
  },
  {
   "cell_type": "markdown",
   "id": "02e884c2",
   "metadata": {},
   "source": [
    "### Data Preprocessing"
   ]
  },
  {
   "cell_type": "markdown",
   "id": "b310ac17",
   "metadata": {},
   "source": [
    "As we can see there are brackets for each item in a row let's first remove them."
   ]
  },
  {
   "cell_type": "code",
   "execution_count": 35,
   "id": "79cb22ea",
   "metadata": {},
   "outputs": [],
   "source": [
    "data_copy=data_df.copy()\n"
   ]
  },
  {
   "cell_type": "markdown",
   "id": "d79c7212",
   "metadata": {},
   "source": [
    "First converting \"datePublished\" column into datetime format"
   ]
  },
  {
   "cell_type": "code",
   "execution_count": 36,
   "id": "6dc87ed6",
   "metadata": {},
   "outputs": [],
   "source": [
    "data_copy['datePublished'] = data_copy['datePublished'].str[0]"
   ]
  },
  {
   "cell_type": "code",
   "execution_count": 37,
   "id": "c0adb9ab",
   "metadata": {},
   "outputs": [],
   "source": [
    "count=0\n",
    "for item in data_copy[\"datePublished\"]:\n",
    "    item=item.replace(\" \", \"-\")\n",
    "    item=item.replace(\",\",\"\")\n",
    "    data_copy.at[count,\"datePublished\"]=item\n",
    "    count+=1"
   ]
  },
  {
   "cell_type": "code",
   "execution_count": 38,
   "id": "28819a69",
   "metadata": {},
   "outputs": [],
   "source": [
    "\n",
    "data_copy['datePublished'] = pd.to_datetime(data_copy['datePublished'], format='%B-%d-%Y')\n"
   ]
  },
  {
   "cell_type": "code",
   "execution_count": 39,
   "id": "da9c7147",
   "metadata": {},
   "outputs": [],
   "source": [
    "\n",
    "#convert rows in lists to strings\n",
    "data_copy[\"title\"]=data_copy[\"title\"].str[0]\n",
    "data_copy[\"image_URL\"]=data_copy[\"image_URL\"].str[0]\n",
    "data_copy[\"@type\"]=data_copy[\"@type\"].str[0]\n",
    "data_copy[\"description\"]=data_copy[\"description\"].str[0]\n",
    "\n",
    "data_copy[\"title\"]=data_copy[\"title\"].astype('str')\n",
    "data_copy[\"image_URL\"]=data_copy[\"image_URL\"].astype('str')\n",
    "data_copy[\"@type\"]=data_copy[\"@type\"].astype('string')\n",
    "data_copy[\"description\"]=data_copy[\"description\"].astype('str')\n",
    "\n",
    "\n",
    "#and rating to integer\n",
    "data_copy[\"rating\"]=data_copy[\"rating\"].astype('float')\n",
    "\n"
   ]
  },
  {
   "cell_type": "markdown",
   "id": "61225474",
   "metadata": {},
   "source": [
    "To create new features in our dataset let's find all uniques values in dictionarie keys."
   ]
  },
  {
   "cell_type": "code",
   "execution_count": 40,
   "id": "a8716ed3",
   "metadata": {
    "scrolled": true
   },
   "outputs": [
    {
     "data": {
      "text/plain": [
       "{'Aired on:',\n",
       " 'Director & Screenwriter:',\n",
       " 'Director:',\n",
       " 'Duration:',\n",
       " 'Network:',\n",
       " 'Release Date:',\n",
       " 'Screenwriter:',\n",
       " 'Total Episodes:',\n",
       " 'Year:'}"
      ]
     },
     "execution_count": 40,
     "metadata": {},
     "output_type": "execute_result"
    }
   ],
   "source": [
    "extra_info_features=set()\n",
    "for row in data_copy[\"extra_info\"]:\n",
    "    for dic in row:\n",
    "        extra_info_features.add(dic)\n",
    "extra_info_features"
   ]
  },
  {
   "cell_type": "code",
   "execution_count": 41,
   "id": "1f0587c9",
   "metadata": {
    "scrolled": false
   },
   "outputs": [
    {
     "name": "stderr",
     "output_type": "stream",
     "text": [
      "C:\\Users\\админ\\AppData\\Local\\Temp\\ipykernel_25400\\98529433.py:10: SettingWithCopyWarning: \n",
      "A value is trying to be set on a copy of a slice from a DataFrame\n",
      "\n",
      "See the caveats in the documentation: https://pandas.pydata.org/pandas-docs/stable/user_guide/indexing.html#returning-a-view-versus-a-copy\n",
      "  data_copy[\"director\"][count] = row.setdefault(\"Director:\")\n",
      "C:\\Users\\админ\\AppData\\Local\\Temp\\ipykernel_25400\\98529433.py:11: SettingWithCopyWarning: \n",
      "A value is trying to be set on a copy of a slice from a DataFrame\n",
      "\n",
      "See the caveats in the documentation: https://pandas.pydata.org/pandas-docs/stable/user_guide/indexing.html#returning-a-view-versus-a-copy\n",
      "  data_copy[\"year\"][count] = row.setdefault(\"Year:\")\n",
      "C:\\Users\\админ\\AppData\\Local\\Temp\\ipykernel_25400\\98529433.py:12: SettingWithCopyWarning: \n",
      "A value is trying to be set on a copy of a slice from a DataFrame\n",
      "\n",
      "See the caveats in the documentation: https://pandas.pydata.org/pandas-docs/stable/user_guide/indexing.html#returning-a-view-versus-a-copy\n",
      "  data_copy[\"duration\"][count] = row.setdefault(\"Duration:\")\n",
      "C:\\Users\\админ\\AppData\\Local\\Temp\\ipykernel_25400\\98529433.py:13: SettingWithCopyWarning: \n",
      "A value is trying to be set on a copy of a slice from a DataFrame\n",
      "\n",
      "See the caveats in the documentation: https://pandas.pydata.org/pandas-docs/stable/user_guide/indexing.html#returning-a-view-versus-a-copy\n",
      "  data_copy[\"network\"][count] = row.setdefault(\"Network:\")\n",
      "C:\\Users\\админ\\AppData\\Local\\Temp\\ipykernel_25400\\98529433.py:14: SettingWithCopyWarning: \n",
      "A value is trying to be set on a copy of a slice from a DataFrame\n",
      "\n",
      "See the caveats in the documentation: https://pandas.pydata.org/pandas-docs/stable/user_guide/indexing.html#returning-a-view-versus-a-copy\n",
      "  data_copy[\"screenwriter\"][count] = row.setdefault(\"Screenwriter:\")\n",
      "C:\\Users\\админ\\AppData\\Local\\Temp\\ipykernel_25400\\98529433.py:15: SettingWithCopyWarning: \n",
      "A value is trying to be set on a copy of a slice from a DataFrame\n",
      "\n",
      "See the caveats in the documentation: https://pandas.pydata.org/pandas-docs/stable/user_guide/indexing.html#returning-a-view-versus-a-copy\n",
      "  data_copy[\"total_episodes\"][count] = row.setdefault(\"Total Episodes:\")\n"
     ]
    },
    {
     "data": {
      "text/html": [
       "<div>\n",
       "<style scoped>\n",
       "    .dataframe tbody tr th:only-of-type {\n",
       "        vertical-align: middle;\n",
       "    }\n",
       "\n",
       "    .dataframe tbody tr th {\n",
       "        vertical-align: top;\n",
       "    }\n",
       "\n",
       "    .dataframe thead th {\n",
       "        text-align: right;\n",
       "    }\n",
       "</style>\n",
       "<table border=\"1\" class=\"dataframe\">\n",
       "  <thead>\n",
       "    <tr style=\"text-align: right;\">\n",
       "      <th></th>\n",
       "      <th>title</th>\n",
       "      <th>image_URL</th>\n",
       "      <th>@type</th>\n",
       "      <th>description</th>\n",
       "      <th>datePublished</th>\n",
       "      <th>tags</th>\n",
       "      <th>genre</th>\n",
       "      <th>rating</th>\n",
       "      <th>extra_info</th>\n",
       "      <th>cast</th>\n",
       "      <th>director</th>\n",
       "      <th>year</th>\n",
       "      <th>duration</th>\n",
       "      <th>network</th>\n",
       "      <th>screenwriter</th>\n",
       "      <th>total_episodes</th>\n",
       "    </tr>\n",
       "  </thead>\n",
       "  <tbody>\n",
       "    <tr>\n",
       "      <th>0</th>\n",
       "      <td>A Gentleman's Dignity</td>\n",
       "      <td>https://www.koreandrama.org/wp-content/uploads...</td>\n",
       "      <td>TVSeries</td>\n",
       "      <td>Four men in their forties go through love, bre...</td>\n",
       "      <td>2022-01-02</td>\n",
       "      <td>[Adult Romance, Age Gap [Drama Life], Age Gap ...</td>\n",
       "      <td>[Comedy]</td>\n",
       "      <td>8.3</td>\n",
       "      <td>{'Director:': ' Kim Jung Hyun, Shin Woo Cheol,...</td>\n",
       "      <td>[Yoon Jin Yi, Kim Soo Ro, Yoon Se Ah, Kim Min ...</td>\n",
       "      <td>Kim Jung Hyun, Shin Woo Cheol, Kwon Hyuk Chan</td>\n",
       "      <td>2012</td>\n",
       "      <td>1 hr. 5 min.</td>\n",
       "      <td>SBS</td>\n",
       "      <td>Kim Eun Sook</td>\n",
       "      <td>20</td>\n",
       "    </tr>\n",
       "    <tr>\n",
       "      <th>1</th>\n",
       "      <td>Kiss Sixth Sense</td>\n",
       "      <td>https://www.koreandrama.org/wp-content/uploads...</td>\n",
       "      <td>TVSeries</td>\n",
       "      <td>Hong Ye Sool, the best account executive on Pl...</td>\n",
       "      <td>2021-08-26</td>\n",
       "      <td>[Boss-Employee Relationship, Ex-Boyfriend Come...</td>\n",
       "      <td>[Drama]</td>\n",
       "      <td>8.1</td>\n",
       "      <td>{'Director:': ' Nam Ki Hoon', 'Screenwriter:':...</td>\n",
       "      <td>[Yoon Kye Sang, Kim Ji Suk, Seo Ji Hye, Jin Su...</td>\n",
       "      <td>Nam Ki Hoon</td>\n",
       "      <td>2022</td>\n",
       "      <td>1 hr. 10 min.</td>\n",
       "      <td>None</td>\n",
       "      <td>Jeon Yoo Ri</td>\n",
       "      <td>12</td>\n",
       "    </tr>\n",
       "    <tr>\n",
       "      <th>2</th>\n",
       "      <td>Melancholia</td>\n",
       "      <td>https://www.koreandrama.org/wp-content/uploads...</td>\n",
       "      <td>TVSeries</td>\n",
       "      <td>A sexual scandal between a math teacher and a ...</td>\n",
       "      <td>2021-07-25</td>\n",
       "      <td>[Age Gap [Drama Life], Childhood Trauma, Corru...</td>\n",
       "      <td>[Drama]</td>\n",
       "      <td>7.7</td>\n",
       "      <td>{'Director:': ' Kim Sang Hyub', 'Screenwriter:...</td>\n",
       "      <td>[Choi Dae Hoon, Lee Do Hyun, Jin Kyung, Im Soo...</td>\n",
       "      <td>Kim Sang Hyub</td>\n",
       "      <td>2021</td>\n",
       "      <td>1 hr. 10 min.</td>\n",
       "      <td>tvN</td>\n",
       "      <td>Kim Ji Woon</td>\n",
       "      <td>16</td>\n",
       "    </tr>\n",
       "    <tr>\n",
       "      <th>3</th>\n",
       "      <td>The Barefoot Youth</td>\n",
       "      <td>https://www.koreandrama.org/wp-content/uploads...</td>\n",
       "      <td>TVSeries</td>\n",
       "      <td>Tales of the hardships and love.</td>\n",
       "      <td>2022-01-16</td>\n",
       "      <td>[]</td>\n",
       "      <td>[Drama]</td>\n",
       "      <td>7.2</td>\n",
       "      <td>{'Director:': ' Kim Yong Kyu', 'Aired on:': ' ...</td>\n",
       "      <td>[Park Geun Hyung, Go So Young, Bae Yong Joon, ...</td>\n",
       "      <td>Kim Yong Kyu</td>\n",
       "      <td>1998</td>\n",
       "      <td>50 min.</td>\n",
       "      <td>KBS2</td>\n",
       "      <td>None</td>\n",
       "      <td>16</td>\n",
       "    </tr>\n",
       "    <tr>\n",
       "      <th>4</th>\n",
       "      <td>8 Love Stories</td>\n",
       "      <td>https://www.koreandrama.org/wp-content/uploads...</td>\n",
       "      <td>TVSeries</td>\n",
       "      <td>&lt;p&gt;The drama describes 8 different love storie...</td>\n",
       "      <td>2021-07-05</td>\n",
       "      <td>[Omnibus]</td>\n",
       "      <td>[Drama]</td>\n",
       "      <td>8.0</td>\n",
       "      <td>{'Director:': ' Kim Jong Hyeok, Lee Kang Hoon'...</td>\n",
       "      <td>[Shin Sung Woo, Lee Byung Hun, Park Sang Ah, K...</td>\n",
       "      <td>Kim Jong Hyeok, Lee Kang Hoon</td>\n",
       "      <td>1999</td>\n",
       "      <td>60 min.</td>\n",
       "      <td>SBS</td>\n",
       "      <td>Song Ji Na</td>\n",
       "      <td>16</td>\n",
       "    </tr>\n",
       "  </tbody>\n",
       "</table>\n",
       "</div>"
      ],
      "text/plain": [
       "                   title                                          image_URL  \\\n",
       "0  A Gentleman's Dignity  https://www.koreandrama.org/wp-content/uploads...   \n",
       "1       Kiss Sixth Sense  https://www.koreandrama.org/wp-content/uploads...   \n",
       "2            Melancholia  https://www.koreandrama.org/wp-content/uploads...   \n",
       "3     The Barefoot Youth  https://www.koreandrama.org/wp-content/uploads...   \n",
       "4         8 Love Stories  https://www.koreandrama.org/wp-content/uploads...   \n",
       "\n",
       "      @type                                        description datePublished  \\\n",
       "0  TVSeries  Four men in their forties go through love, bre...    2022-01-02   \n",
       "1  TVSeries  Hong Ye Sool, the best account executive on Pl...    2021-08-26   \n",
       "2  TVSeries  A sexual scandal between a math teacher and a ...    2021-07-25   \n",
       "3  TVSeries                   Tales of the hardships and love.    2022-01-16   \n",
       "4  TVSeries  <p>The drama describes 8 different love storie...    2021-07-05   \n",
       "\n",
       "                                                tags     genre  rating  \\\n",
       "0  [Adult Romance, Age Gap [Drama Life], Age Gap ...  [Comedy]     8.3   \n",
       "1  [Boss-Employee Relationship, Ex-Boyfriend Come...   [Drama]     8.1   \n",
       "2  [Age Gap [Drama Life], Childhood Trauma, Corru...   [Drama]     7.7   \n",
       "3                                                 []   [Drama]     7.2   \n",
       "4                                          [Omnibus]   [Drama]     8.0   \n",
       "\n",
       "                                          extra_info  \\\n",
       "0  {'Director:': ' Kim Jung Hyun, Shin Woo Cheol,...   \n",
       "1  {'Director:': ' Nam Ki Hoon', 'Screenwriter:':...   \n",
       "2  {'Director:': ' Kim Sang Hyub', 'Screenwriter:...   \n",
       "3  {'Director:': ' Kim Yong Kyu', 'Aired on:': ' ...   \n",
       "4  {'Director:': ' Kim Jong Hyeok, Lee Kang Hoon'...   \n",
       "\n",
       "                                                cast  \\\n",
       "0  [Yoon Jin Yi, Kim Soo Ro, Yoon Se Ah, Kim Min ...   \n",
       "1  [Yoon Kye Sang, Kim Ji Suk, Seo Ji Hye, Jin Su...   \n",
       "2  [Choi Dae Hoon, Lee Do Hyun, Jin Kyung, Im Soo...   \n",
       "3  [Park Geun Hyung, Go So Young, Bae Yong Joon, ...   \n",
       "4  [Shin Sung Woo, Lee Byung Hun, Park Sang Ah, K...   \n",
       "\n",
       "                                         director   year        duration  \\\n",
       "0   Kim Jung Hyun, Shin Woo Cheol, Kwon Hyuk Chan   2012    1 hr. 5 min.   \n",
       "1                                     Nam Ki Hoon   2022   1 hr. 10 min.   \n",
       "2                                   Kim Sang Hyub   2021   1 hr. 10 min.   \n",
       "3                                    Kim Yong Kyu   1998         50 min.   \n",
       "4                   Kim Jong Hyeok, Lee Kang Hoon   1999         60 min.   \n",
       "\n",
       "  network   screenwriter total_episodes  \n",
       "0     SBS   Kim Eun Sook             20  \n",
       "1    None    Jeon Yoo Ri             12  \n",
       "2     tvN    Kim Ji Woon             16  \n",
       "3    KBS2           None             16  \n",
       "4     SBS     Song Ji Na             16  "
      ]
     },
     "execution_count": 41,
     "metadata": {},
     "output_type": "execute_result"
    }
   ],
   "source": [
    "count=0\n",
    "data_copy[\"director\"] = np.nan\n",
    "data_copy[\"year\"] = np.nan\n",
    "data_copy[\"duration\"] = np.nan\n",
    "data_copy[\"network\"] = np.nan\n",
    "data_copy[\"screenwriter\"] = np.nan\n",
    "data_copy[\"total_episodes\"] = np.nan\n",
    "\n",
    "for row in data_copy[\"extra_info\"]:\n",
    "    data_copy[\"director\"][count] = row.setdefault(\"Director:\")\n",
    "    data_copy[\"year\"][count] = row.setdefault(\"Year:\")\n",
    "    data_copy[\"duration\"][count] = row.setdefault(\"Duration:\")\n",
    "    data_copy[\"network\"][count] = row.setdefault(\"Network:\")\n",
    "    data_copy[\"screenwriter\"][count] = row.setdefault(\"Screenwriter:\")\n",
    "    data_copy[\"total_episodes\"][count] = row.setdefault(\"Total Episodes:\")\n",
    "    count+=1\n",
    "data_copy.head() "
   ]
  },
  {
   "cell_type": "code",
   "execution_count": 43,
   "id": "95e3ba32",
   "metadata": {
    "scrolled": true
   },
   "outputs": [
    {
     "data": {
      "text/plain": [
       "title                0\n",
       "image_URL            0\n",
       "@type                0\n",
       "description          0\n",
       "datePublished        0\n",
       "tags                 0\n",
       "genre                0\n",
       "rating               0\n",
       "extra_info           0\n",
       "cast                 0\n",
       "director          1004\n",
       "year                39\n",
       "duration           318\n",
       "network            431\n",
       "screenwriter      1121\n",
       "total_episodes     157\n",
       "dtype: int64"
      ]
     },
     "execution_count": 43,
     "metadata": {},
     "output_type": "execute_result"
    }
   ],
   "source": [
    "data_copy.isna().sum()"
   ]
  },
  {
   "cell_type": "markdown",
   "id": "afd46940",
   "metadata": {},
   "source": [
    "In another notebook I'll work with data cleaning and preprocessing to make it ready for training."
   ]
  },
  {
   "cell_type": "markdown",
   "id": "1d8c4a15",
   "metadata": {},
   "source": [
    "### Save data from lists to CSV files"
   ]
  },
  {
   "cell_type": "markdown",
   "id": "a79ce26a",
   "metadata": {},
   "source": [
    "There are still several works with data cleaning and normalization as well. But let's save it for now."
   ]
  },
  {
   "cell_type": "code",
   "execution_count": 42,
   "id": "5a53c726",
   "metadata": {},
   "outputs": [],
   "source": [
    "data_copy.to_csv(\"drama_data.csv\")"
   ]
  },
  {
   "cell_type": "markdown",
   "id": "60828412",
   "metadata": {},
   "source": [
    "Korean movies and TV shows were collected in the same principle from the same website. So collected unique rows achived 7473 unique rows."
   ]
  },
  {
   "cell_type": "markdown",
   "id": "1a84ee01",
   "metadata": {},
   "source": [
    "### Merging all three datasets"
   ]
  },
  {
   "cell_type": "code",
   "execution_count": 1,
   "id": "4eebbe7b",
   "metadata": {},
   "outputs": [],
   "source": [
    "import pandas as pd "
   ]
  },
  {
   "cell_type": "code",
   "execution_count": 10,
   "id": "b6770c66",
   "metadata": {},
   "outputs": [],
   "source": [
    "shows_df=pd.read_csv(\"data/shows_data.csv\")\n",
    "movies_df=pd.read_csv(\"data/movie_data.csv\")\n",
    "dramas_df=pd.read_csv(\"data/drama_data.csv\")"
   ]
  },
  {
   "cell_type": "code",
   "execution_count": 11,
   "id": "eb0bab5a",
   "metadata": {},
   "outputs": [],
   "source": [
    "entire_df = pd.concat([shows_df, movies_df,dramas_df], axis=0)"
   ]
  },
  {
   "cell_type": "code",
   "execution_count": 13,
   "id": "3a681fd4",
   "metadata": {},
   "outputs": [
    {
     "data": {
      "text/plain": [
       "7473"
      ]
     },
     "execution_count": 13,
     "metadata": {},
     "output_type": "execute_result"
    }
   ],
   "source": [
    "len(entire_df)"
   ]
  },
  {
   "cell_type": "code",
   "execution_count": null,
   "id": "631b8375",
   "metadata": {},
   "outputs": [],
   "source": []
  }
 ],
 "metadata": {
  "kernelspec": {
   "display_name": "Python 3 (ipykernel)",
   "language": "python",
   "name": "python3"
  },
  "language_info": {
   "codemirror_mode": {
    "name": "ipython",
    "version": 3
   },
   "file_extension": ".py",
   "mimetype": "text/x-python",
   "name": "python",
   "nbconvert_exporter": "python",
   "pygments_lexer": "ipython3",
   "version": "3.9.7"
  }
 },
 "nbformat": 4,
 "nbformat_minor": 5
}
